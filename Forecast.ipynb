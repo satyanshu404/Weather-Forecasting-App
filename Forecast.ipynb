{
  "nbformat": 4,
  "nbformat_minor": 0,
  "metadata": {
    "colab": {
      "name": "Forecast.ipynb",
      "provenance": [],
      "authorship_tag": "ABX9TyOhb5NE0dtz7Glod5ule4/6",
      "include_colab_link": true
    },
    "kernelspec": {
      "name": "python3",
      "display_name": "Python 3"
    },
    "language_info": {
      "name": "python"
    }
  },
  "cells": [
    {
      "cell_type": "markdown",
      "metadata": {
        "id": "view-in-github",
        "colab_type": "text"
      },
      "source": [
        "<a href=\"https://colab.research.google.com/github/satyanshu404/Weather-Forecasting-App/blob/main/Forecast.ipynb\" target=\"_parent\"><img src=\"https://colab.research.google.com/assets/colab-badge.svg\" alt=\"Open In Colab\"/></a>"
      ]
    },
    {
      "cell_type": "code",
      "execution_count": null,
      "metadata": {
        "id": "anCM-SJizKa8"
      },
      "outputs": [],
      "source": [
        "!pip install streamlit\n",
        "!pip install matplotlib==3.2.2\n",
        "!pip install DateTime==4.3\n",
        "!pip install pyowm==3.0.0\n"
      ]
    },
    {
      "cell_type": "code",
      "source": [
        ""
      ],
      "metadata": {
        "id": "h1p9ffpnz6Hz"
      },
      "execution_count": null,
      "outputs": []
    },
    {
      "cell_type": "code",
      "source": [
        "import os\n",
        "import pytz\n",
        "import pyowm\n",
        "import streamlit as st\n",
        "from matplotlib import dates\n",
        "from datetime import datetime\n",
        "from matplotlib import pyplot as plt"
      ],
      "metadata": {
        "id": "cwuDMWcPzt4H"
      },
      "execution_count": 2,
      "outputs": []
    },
    {
      "cell_type": "code",
      "source": [
        "owm=pyowm.OWM('5338c1c8f2c9376659f785a866c801ac')\n",
        "mgr=owm.weather_manager()"
      ],
      "metadata": {
        "id": "wco-qOT10e6_"
      },
      "execution_count": 3,
      "outputs": []
    },
    {
      "cell_type": "code",
      "source": [
        "st.title(\"5 Day Weather Forecast\")\n",
        "st.write(\"### Write the name of a City and select the Temperature Unit and Graph Type from the sidebar\")"
      ],
      "metadata": {
        "id": "doylJDKA2r8s"
      },
      "execution_count": 5,
      "outputs": []
    },
    {
      "cell_type": "code",
      "source": [
        "place=st.text_input(\"NAME OF THE CITY :\", \"\")\n",
        "if place == None:\n",
        "  st.write(\"Input a CITY!\")"
      ],
      "metadata": {
        "id": "BBEZ56po2stU"
      },
      "execution_count": 7,
      "outputs": []
    },
    {
      "cell_type": "code",
      "source": [
        "unit=st.selectbox(\"Select Temperature Unit\",(\"Celsius\",\"Fahrenheit\"))\n",
        "g_type=st.selectbox(\"Select Graph Type\",(\"Line Graph\",\"Bar Graph\"))"
      ],
      "metadata": {
        "id": "CLDlxSVo293C"
      },
      "execution_count": 8,
      "outputs": []
    },
    {
      "cell_type": "code",
      "source": [
        "forc = mgr.forecast_at_place('Los Angeles, US', '3h')\n",
        "print(forc)"
      ],
      "metadata": {
        "colab": {
          "base_uri": "https://localhost:8080/"
        },
        "id": "4qMcrp9b3BJX",
        "outputId": "15a914c8-640f-47c7-a811-189a1b771a61"
      },
      "execution_count": 12,
      "outputs": [
        {
          "output_type": "stream",
          "name": "stdout",
          "text": [
            "<pyowm.weatherapi25.forecaster.Forecaster>\n"
          ]
        }
      ]
    },
    {
      "cell_type": "code",
      "source": [
        "observation = mgr.weather_at_place('London,GB')  # the observation object is a box containing a weather object\n",
        "weather = observation.weather\n",
        "print(weather)"
      ],
      "metadata": {
        "colab": {
          "base_uri": "https://localhost:8080/"
        },
        "id": "8kFCXeEE49kM",
        "outputId": "e532eb06-0d2d-4aee-83d8-fd2d00653ab3"
      },
      "execution_count": 15,
      "outputs": [
        {
          "output_type": "stream",
          "name": "stdout",
          "text": [
            "<pyowm.weatherapi25.weather.Weather - reference_time=2022-07-03 07:13:13+00, status=clouds, detailed_status=few clouds>\n"
          ]
        }
      ]
    },
    {
      "cell_type": "code",
      "source": [
        "\"\""
      ],
      "metadata": {
        "id": "5CAn-7h152-x"
      },
      "execution_count": null,
      "outputs": []
    }
  ]
}